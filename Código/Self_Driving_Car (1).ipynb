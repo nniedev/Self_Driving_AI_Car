{
  "nbformat": 4,
  "nbformat_minor": 0,
  "metadata": {
    "colab": {
      "provenance": []
    },
    "kernelspec": {
      "name": "python3",
      "display_name": "Python 3"
    },
    "language_info": {
      "name": "python"
    }
  },
  "cells": [
    {
      "cell_type": "markdown",
      "source": [
        "#Algoritmo N.E.A.T. para fazer o carro andar autonomamente"
      ],
      "metadata": {
        "id": "Lg3fxCbLZY9K"
      }
    },
    {
      "cell_type": "markdown",
      "source": [
        "##1. Import de Bibliotecas"
      ],
      "metadata": {
        "id": "cnAfjKaeZh4N"
      }
    },
    {
      "cell_type": "code",
      "source": [
        "!git clone https://github.com/nniedev/Self_Driving_AI_Car\n",
        "!git clone https://github.com/CodeReclaimers/neat-python"
      ],
      "metadata": {
        "colab": {
          "base_uri": "https://localhost:8080/"
        },
        "id": "in2_15hGYzqu",
        "outputId": "03beab44-94ff-4209-c9a2-c2b6b8aa6223"
      },
      "execution_count": 1,
      "outputs": [
        {
          "output_type": "stream",
          "name": "stdout",
          "text": [
            "Cloning into 'Self_Driving_AI_Car'...\n",
            "remote: Enumerating objects: 59, done.\u001b[K\n",
            "remote: Counting objects: 100% (59/59), done.\u001b[K\n",
            "remote: Compressing objects: 100% (48/48), done.\u001b[K\n",
            "remote: Total 59 (delta 20), reused 26 (delta 4), pack-reused 0 (from 0)\u001b[K\n",
            "Receiving objects: 100% (59/59), 121.82 KiB | 5.80 MiB/s, done.\n",
            "Resolving deltas: 100% (20/20), done.\n",
            "Cloning into 'neat-python'...\n",
            "remote: Enumerating objects: 5311, done.\u001b[K\n",
            "remote: Counting objects: 100% (150/150), done.\u001b[K\n",
            "remote: Compressing objects: 100% (85/85), done.\u001b[K\n",
            "remote: Total 5311 (delta 91), reused 65 (delta 65), pack-reused 5161 (from 2)\u001b[K\n",
            "Receiving objects: 100% (5311/5311), 2.25 MiB | 12.86 MiB/s, done.\n",
            "Resolving deltas: 100% (3636/3636), done.\n"
          ]
        }
      ]
    },
    {
      "cell_type": "code",
      "execution_count": 2,
      "metadata": {
        "id": "v0BSIn4ZjGlq",
        "colab": {
          "base_uri": "https://localhost:8080/"
        },
        "outputId": "c5e7f122-25fa-4d21-90c7-05ca8318bafc"
      },
      "outputs": [
        {
          "output_type": "stream",
          "name": "stdout",
          "text": [
            "Processing ./neat-python\n",
            "  Preparing metadata (setup.py) ... \u001b[?25l\u001b[?25hdone\n",
            "Building wheels for collected packages: neat-python\n",
            "  Building wheel for neat-python (setup.py) ... \u001b[?25l\u001b[?25hdone\n",
            "  Created wheel for neat-python: filename=neat_python-0.93-py3-none-any.whl size=43564 sha256=3223caa66477b7dfaef809a3c381bcfa40b96002c7a928c5ef3193fb7527cce5\n",
            "  Stored in directory: /root/.cache/pip/wheels/71/a7/4a/e329bd6ad4ccf5332a1fbb249f92f6cf0f06eea0670e5d3ccf\n",
            "Successfully built neat-python\n",
            "Installing collected packages: neat-python\n",
            "Successfully installed neat-python-0.93\n",
            "pygame 2.6.1 (SDL 2.28.4, Python 3.11.12)\n",
            "Hello from the pygame community. https://www.pygame.org/contribute.html\n"
          ]
        }
      ],
      "source": [
        "!pip install ./neat-python\n",
        "import math\n",
        "import random\n",
        "import sys\n",
        "import os\n",
        "import neat\n",
        "import pygame"
      ]
    },
    {
      "cell_type": "markdown",
      "source": [
        "##2. Declaração de Parâmetros"
      ],
      "metadata": {
        "id": "mr6-vK_ZZ0S0"
      }
    },
    {
      "cell_type": "markdown",
      "source": [
        "###2.1. Proporções da Imagem(Tela)"
      ],
      "metadata": {
        "id": "ZcDsOPGCZ4yG"
      }
    },
    {
      "cell_type": "code",
      "source": [
        "largura = 1920\n",
        "altura = 1080"
      ],
      "metadata": {
        "id": "cOX2z_X-ZV5T"
      },
      "execution_count": 3,
      "outputs": []
    },
    {
      "cell_type": "markdown",
      "source": [
        "###2.2. Tamanho do Carro"
      ],
      "metadata": {
        "id": "DgM8jYawaCiQ"
      }
    },
    {
      "cell_type": "code",
      "source": [
        "carro_x = 60\n",
        "carro_y = 60"
      ],
      "metadata": {
        "id": "q51VI-o-aFBg"
      },
      "execution_count": 4,
      "outputs": []
    },
    {
      "cell_type": "markdown",
      "source": [
        "###2.3. Cor fora da pista"
      ],
      "metadata": {
        "id": "KSsKL55pbCXL"
      }
    },
    {
      "cell_type": "code",
      "source": [
        "cor_borda = (255, 255, 255, 255) # Se encostar nessa cor quer dizer que o carro bateu"
      ],
      "metadata": {
        "id": "2Jmo3vatbJef"
      },
      "execution_count": 5,
      "outputs": []
    },
    {
      "cell_type": "markdown",
      "source": [
        "###2.4. Geração"
      ],
      "metadata": {
        "id": "mZfbiNzGblSw"
      }
    },
    {
      "cell_type": "code",
      "source": [
        "geracao = 0 # Contador da geração"
      ],
      "metadata": {
        "id": "zWZbfW_Mbnzq"
      },
      "execution_count": 6,
      "outputs": []
    },
    {
      "cell_type": "markdown",
      "source": [
        "##3. Criação dos objetos"
      ],
      "metadata": {
        "id": "KemsiQn6bwXu"
      }
    },
    {
      "cell_type": "markdown",
      "source": [
        "###3.1. Carro"
      ],
      "metadata": {
        "id": "OawWwf-EdiNq"
      }
    },
    {
      "cell_type": "code",
      "source": [
        "class Car:\n",
        "\n",
        "    def __init__(self):\n",
        "        # Load Car Sprite and Rotate\n",
        "        self.sprite = pygame.image.load('/content/Self_Driving_AI_Car/Desenhos/Carro/carro.png').convert() # Convert Speeds Up A Lot\n",
        "        self.sprite = pygame.transform.scale(self.sprite, (carro_x, carro_y))\n",
        "        self.rotated_sprite = self.sprite\n",
        "\n",
        "        # self.position = [690, 740] # Starting Position\n",
        "        self.position = [830, 920] # Starting Position\n",
        "        self.angle = 0\n",
        "        self.speed = 0\n",
        "\n",
        "        self.speed_set = False # Flag For Default Speed Later on\n",
        "\n",
        "        self.center = [self.position[0] + carro_x / 2, self.position[1] + carro_y / 2] # Calculate Center\n",
        "\n",
        "        self.radars = [] # List For Sensors / Radars\n",
        "        self.drawing_radars = [] # Radars To Be Drawn\n",
        "\n",
        "        self.alive = True # Boolean To Check If Car is Crashed\n",
        "\n",
        "        self.distance = 0 # Distance Driven\n",
        "        self.time = 0 # Time Passed\n",
        "\n",
        "    def draw(self, screen):\n",
        "        screen.blit(self.rotated_sprite, self.position) # Draw Sprite\n",
        "        self.draw_radar(screen) #OPTIONAL FOR SENSORS\n",
        "\n",
        "    def draw_radar(self, screen):\n",
        "        # Optionally Draw All Sensors / Radars\n",
        "        for radar in self.radars:\n",
        "            position = radar[0]\n",
        "            pygame.draw.line(screen, (0, 255, 0), self.center, position, 1)\n",
        "            pygame.draw.circle(screen, (0, 255, 0), position, 5)\n",
        "\n",
        "    def check_collision(self, game_map):\n",
        "        self.alive = True\n",
        "        for point in self.corners:\n",
        "            # If Any Corner Touches Border Color -> Crash\n",
        "            # Assumes Rectangle\n",
        "            if game_map.get_at((int(point[0]), int(point[1]))) == cor_borda:\n",
        "                self.alive = False\n",
        "                break\n",
        "\n",
        "    def check_radar(self, degree, game_map):\n",
        "        length = 0\n",
        "        x = int(self.center[0] + math.cos(math.radians(360 - (self.angle + degree))) * length)\n",
        "        y = int(self.center[1] + math.sin(math.radians(360 - (self.angle + degree))) * length)\n",
        "\n",
        "        # While We Don't Hit BORDER_COLOR AND length < 300 (just a max) -> go further and further\n",
        "        while not game_map.get_at((x, y)) == cor_borda and length < 300:\n",
        "            length = length + 1\n",
        "            x = int(self.center[0] + math.cos(math.radians(360 - (self.angle + degree))) * length)\n",
        "            y = int(self.center[1] + math.sin(math.radians(360 - (self.angle + degree))) * length)\n",
        "\n",
        "        # Calculate Distance To Border And Append To Radars List\n",
        "        dist = int(math.sqrt(math.pow(x - self.center[0], 2) + math.pow(y - self.center[1], 2)))\n",
        "        self.radars.append([(x, y), dist])\n",
        "\n",
        "    def update(self, game_map):\n",
        "        # Set The Speed To 20 For The First Time\n",
        "        # Only When Having 4 Output Nodes With Speed Up and Down\n",
        "        if not self.speed_set:\n",
        "            self.speed = 20\n",
        "            self.speed_set = True\n",
        "\n",
        "        # Get Rotated Sprite And Move Into The Right X-Direction\n",
        "        # Don't Let The Car Go Closer Than 20px To The Edge\n",
        "        self.rotated_sprite = self.rotate_center(self.sprite, self.angle)\n",
        "        self.position[0] += math.cos(math.radians(360 - self.angle)) * self.speed\n",
        "        self.position[0] = max(self.position[0], 20)\n",
        "        self.position[0] = min(self.position[0], largura - 120)\n",
        "\n",
        "        # Increase Distance and Time\n",
        "        self.distance += self.speed\n",
        "        self.time += 1\n",
        "\n",
        "        # Same For Y-Position\n",
        "        self.position[1] += math.sin(math.radians(360 - self.angle)) * self.speed\n",
        "        self.position[1] = max(self.position[1], 20)\n",
        "        self.position[1] = min(self.position[1], largura - 120)\n",
        "\n",
        "        # Calculate New Center\n",
        "        self.center = [int(self.position[0]) + carro_x / 2, int(self.position[1]) + carro_y / 2]\n",
        "\n",
        "        # Calculate Four Corners\n",
        "        # Length Is Half The Side\n",
        "        length = 0.5 * carro_x\n",
        "        left_top = [self.center[0] + math.cos(math.radians(360 - (self.angle + 30))) * length, self.center[1] + math.sin(math.radians(360 - (self.angle + 30))) * length]\n",
        "        right_top = [self.center[0] + math.cos(math.radians(360 - (self.angle + 150))) * length, self.center[1] + math.sin(math.radians(360 - (self.angle + 150))) * length]\n",
        "        left_bottom = [self.center[0] + math.cos(math.radians(360 - (self.angle + 210))) * length, self.center[1] + math.sin(math.radians(360 - (self.angle + 210))) * length]\n",
        "        right_bottom = [self.center[0] + math.cos(math.radians(360 - (self.angle + 330))) * length, self.center[1] + math.sin(math.radians(360 - (self.angle + 330))) * length]\n",
        "        self.corners = [left_top, right_top, left_bottom, right_bottom]\n",
        "\n",
        "        # Check Collisions And Clear Radars\n",
        "        self.check_collision(game_map)\n",
        "        self.radars.clear()\n",
        "\n",
        "        # From -90 To 120 With Step-Size 45 Check Radar\n",
        "        for d in range(-90, 120, 45):\n",
        "            self.check_radar(d, game_map)\n",
        "\n",
        "    def get_data(self):\n",
        "        # Get Distances To Border\n",
        "        radars = self.radars\n",
        "        return_values = [0, 0, 0, 0, 0]\n",
        "        for i, radar in enumerate(radars):\n",
        "            return_values[i] = int(radar[1] / 30)\n",
        "\n",
        "        return return_values\n",
        "\n",
        "    def is_alive(self):\n",
        "        # Basic Alive Function\n",
        "        return self.alive\n",
        "\n",
        "    def get_reward(self):\n",
        "        # Calculate Reward (Maybe Change?)\n",
        "        # return self.distance / 50.0\n",
        "        return self.distance / (carro_x / 2)\n",
        "\n",
        "    def rotate_center(self, image, angle):\n",
        "        # Rotate The Rectangle\n",
        "        rectangle = image.get_rect()\n",
        "        rotated_image = pygame.transform.rotate(image, angle)\n",
        "        rotated_rectangle = rectangle.copy()\n",
        "        rotated_rectangle.center = rotated_image.get_rect().center\n",
        "        rotated_image = rotated_image.subsurface(rotated_rectangle).copy()\n",
        "        return rotated_image\n"
      ],
      "metadata": {
        "id": "1oIE2LTWb0o7"
      },
      "execution_count": 32,
      "outputs": []
    },
    {
      "cell_type": "markdown",
      "source": [
        "##4. Simulação"
      ],
      "metadata": {
        "id": "IMaUwIYydjvF"
      }
    },
    {
      "cell_type": "code",
      "source": [
        "def run_simulation(genomes, config):\n",
        "\n",
        "    # Empty Collections For Nets and Cars\n",
        "    nets = []\n",
        "    cars = []\n",
        "\n",
        "    # Initialize PyGame And The Display\n",
        "    pygame.init()\n",
        "    screen = pygame.display.set_mode((largura, altura), pygame.FULLSCREEN)\n",
        "\n",
        "    # For All Genomes Passed Create A New Neural Network\n",
        "    for i, g in genomes:\n",
        "        net = neat.nn.FeedForwardNetwork.create(g, config)\n",
        "        nets.append(net)\n",
        "        g.fitness = 0\n",
        "\n",
        "        cars.append(Car())\n",
        "\n",
        "    # Clock Settings\n",
        "    # Font Settings & Loading Map\n",
        "    clock = pygame.time.Clock()\n",
        "    generation_font = pygame.font.SysFont(\"Arial\", 30)\n",
        "    alive_font = pygame.font.SysFont(\"Arial\", 20)\n",
        "    game_map = pygame.image.load('/content/Self_Driving_AI_Car/Desenhos/Pistas/pista.png').convert() # Convert Speeds Up A Lot\n",
        "\n",
        "    global geracao\n",
        "    geracao += 1\n",
        "\n",
        "    # Simple Counter To Roughly Limit Time (Not Good Practice)\n",
        "    counter = 0\n",
        "\n",
        "    while True:\n",
        "        # Exit On Quit Event\n",
        "        for event in pygame.event.get():\n",
        "            if event.type == pygame.QUIT:\n",
        "                sys.exit(0)\n",
        "\n",
        "        # For Each Car Get The Acton It Takes\n",
        "        for i, car in enumerate(cars):\n",
        "            output = nets[i].activate(car.get_data())\n",
        "            choice = output.index(max(output))\n",
        "            if choice == 0:\n",
        "                car.angle += 10 # Left\n",
        "            elif choice == 1:\n",
        "                car.angle -= 10 # Right\n",
        "            elif choice == 2:\n",
        "                if(car.speed - 2 >= 12):\n",
        "                    car.speed -= 2 # Slow Down\n",
        "            else:\n",
        "                car.speed += 2 # Speed Up\n",
        "\n",
        "        # Check If Car Is Still Alive\n",
        "        # Increase Fitness If Yes And Break Loop If Not\n",
        "        still_alive = 0\n",
        "        for i, car in enumerate(cars):\n",
        "            if car.is_alive():\n",
        "                still_alive += 1\n",
        "                car.update(game_map)\n",
        "                genomes[i][1].fitness += car.get_reward()\n",
        "\n",
        "        if still_alive == 0:\n",
        "            break\n",
        "\n",
        "        counter += 1\n",
        "        if counter == 30 * 40: # Stop After About 20 Seconds\n",
        "            break\n",
        "\n",
        "        # Draw Map And All Cars That Are Alive\n",
        "        screen.blit(game_map, (0, 0))\n",
        "        for car in cars:\n",
        "            if car.is_alive():\n",
        "                car.draw(screen)\n",
        "\n",
        "        # Display Info\n",
        "        text = generation_font.render(\"Generation: \" + str(geracao), True, (0,0,0))\n",
        "        text_rect = text.get_rect()\n",
        "        text_rect.center = (900, 450)\n",
        "        screen.blit(text, text_rect)\n",
        "\n",
        "        text = alive_font.render(\"Still Alive: \" + str(still_alive), True, (0, 0, 0))\n",
        "        text_rect = text.get_rect()\n",
        "        text_rect.center = (900, 490)\n",
        "        screen.blit(text, text_rect)\n",
        "\n",
        "        pygame.display.flip()\n",
        "        clock.tick(60) # 60 FPS\n",
        "\n",
        "if __name__ == \"__main__\":\n",
        "\n",
        "    # Load Config\n",
        "    config_path = \"/content/Self_Driving_AI_Car/Config/Arquivo_NEAT.txt\"\n",
        "    config = neat.config.Config(neat.DefaultGenome,\n",
        "                                neat.DefaultReproduction,\n",
        "                                neat.DefaultSpeciesSet,\n",
        "                                neat.DefaultStagnation,\n",
        "                                config_path)\n",
        "\n",
        "    # Create Population And Add Reporters\n",
        "    population = neat.Population(config)\n",
        "    population.add_reporter(neat.StdOutReporter(True))\n",
        "    stats = neat.StatisticsReporter()\n",
        "    population.add_reporter(stats)\n",
        "\n",
        "    # Run Simulation For A Maximum of 1000 Generations\n",
        "    population.run(run_simulation, 1000)"
      ],
      "metadata": {
        "colab": {
          "base_uri": "https://localhost:8080/",
          "height": 1000
        },
        "id": "o8aqR_Q_dnzN",
        "outputId": "f7afc761-ea15-42d3-a8b7-daf9e22c50e3"
      },
      "execution_count": 35,
      "outputs": [
        {
          "output_type": "stream",
          "name": "stdout",
          "text": [
            "\n",
            " ****** Running generation 0 ****** \n",
            "\n",
            "Population's average fitness: 572.24444 stdev: 2613.87512\n",
            "Best fitness: 14630.00000 - size: (4, 20) - species 1 - id 27\n",
            "Average adjusted fitness: 0.039\n",
            "Mean genetic distance 1.264, standard deviation 0.233\n",
            "Population of 30 members in 1 species:\n",
            "   ID   age  size   fitness   adj fit  stag\n",
            "  ====  ===  ====  =========  =======  ====\n",
            "     1    0    30  14630.000    0.039     0\n",
            "Total extinctions: 0\n",
            "Generation time: 6.803 sec\n",
            "\n",
            " ****** Running generation 1 ****** \n",
            "\n",
            "Population's average fitness: 16875.42444 stdev: 86112.53116\n",
            "Best fitness: 480400.00000 - size: (5, 20) - species 1 - id 51\n",
            "Average adjusted fitness: 0.035\n",
            "Mean genetic distance 1.299, standard deviation 0.215\n",
            "Population of 30 members in 1 species:\n",
            "   ID   age  size   fitness   adj fit  stag\n",
            "  ====  ===  ====  =========  =======  ====\n",
            "     1    1    30  480400.000    0.035     0\n",
            "Total extinctions: 0\n",
            "Generation time: 31.569 sec (19.186 average)\n",
            "\n",
            " ****** Running generation 2 ****** \n",
            "\n",
            "Population's average fitness: 58415.62667 stdev: 149860.28902\n",
            "Best fitness: 480400.00000 - size: (5, 20) - species 1 - id 51\n",
            "Average adjusted fitness: 0.122\n",
            "Mean genetic distance 1.321, standard deviation 0.252\n",
            "Population of 30 members in 1 species:\n",
            "   ID   age  size   fitness   adj fit  stag\n",
            "  ====  ===  ====  =========  =======  ====\n",
            "     1    2    30  480400.000    0.122     1\n",
            "Total extinctions: 0\n",
            "Generation time: 35.758 sec (24.710 average)\n",
            "\n",
            " ****** Running generation 3 ****** \n",
            "\n"
          ]
        },
        {
          "output_type": "error",
          "ename": "KeyboardInterrupt",
          "evalue": "",
          "traceback": [
            "\u001b[0;31m---------------------------------------------------------------------------\u001b[0m",
            "\u001b[0;31mKeyboardInterrupt\u001b[0m                         Traceback (most recent call last)",
            "\u001b[0;32m<ipython-input-35-295918fca910>\u001b[0m in \u001b[0;36m<cell line: 0>\u001b[0;34m()\u001b[0m\n\u001b[1;32m    103\u001b[0m \u001b[0;34m\u001b[0m\u001b[0m\n\u001b[1;32m    104\u001b[0m     \u001b[0;31m# Run Simulation For A Maximum of 1000 Generations\u001b[0m\u001b[0;34m\u001b[0m\u001b[0;34m\u001b[0m\u001b[0m\n\u001b[0;32m--> 105\u001b[0;31m     \u001b[0mpopulation\u001b[0m\u001b[0;34m.\u001b[0m\u001b[0mrun\u001b[0m\u001b[0;34m(\u001b[0m\u001b[0mrun_simulation\u001b[0m\u001b[0;34m,\u001b[0m \u001b[0;36m1000\u001b[0m\u001b[0;34m)\u001b[0m\u001b[0;34m\u001b[0m\u001b[0;34m\u001b[0m\u001b[0m\n\u001b[0m",
            "\u001b[0;32m/usr/local/lib/python3.11/dist-packages/neat/population.py\u001b[0m in \u001b[0;36mrun\u001b[0;34m(self, fitness_function, n)\u001b[0m\n\u001b[1;32m     85\u001b[0m \u001b[0;34m\u001b[0m\u001b[0m\n\u001b[1;32m     86\u001b[0m             \u001b[0;31m# Evaluate all genomes using the user-provided function.\u001b[0m\u001b[0;34m\u001b[0m\u001b[0;34m\u001b[0m\u001b[0m\n\u001b[0;32m---> 87\u001b[0;31m             \u001b[0mfitness_function\u001b[0m\u001b[0;34m(\u001b[0m\u001b[0mlist\u001b[0m\u001b[0;34m(\u001b[0m\u001b[0mself\u001b[0m\u001b[0;34m.\u001b[0m\u001b[0mpopulation\u001b[0m\u001b[0;34m.\u001b[0m\u001b[0mitems\u001b[0m\u001b[0;34m(\u001b[0m\u001b[0;34m)\u001b[0m\u001b[0;34m)\u001b[0m\u001b[0;34m,\u001b[0m \u001b[0mself\u001b[0m\u001b[0;34m.\u001b[0m\u001b[0mconfig\u001b[0m\u001b[0;34m)\u001b[0m\u001b[0;34m\u001b[0m\u001b[0;34m\u001b[0m\u001b[0m\n\u001b[0m\u001b[1;32m     88\u001b[0m \u001b[0;34m\u001b[0m\u001b[0m\n\u001b[1;32m     89\u001b[0m             \u001b[0;31m# Gather and report statistics.\u001b[0m\u001b[0;34m\u001b[0m\u001b[0;34m\u001b[0m\u001b[0m\n",
            "\u001b[0;32m<ipython-input-35-295918fca910>\u001b[0m in \u001b[0;36mrun_simulation\u001b[0;34m(genomes, config)\u001b[0m\n\u001b[1;32m     83\u001b[0m         \u001b[0mscreen\u001b[0m\u001b[0;34m.\u001b[0m\u001b[0mblit\u001b[0m\u001b[0;34m(\u001b[0m\u001b[0mtext\u001b[0m\u001b[0;34m,\u001b[0m \u001b[0mtext_rect\u001b[0m\u001b[0;34m)\u001b[0m\u001b[0;34m\u001b[0m\u001b[0;34m\u001b[0m\u001b[0m\n\u001b[1;32m     84\u001b[0m \u001b[0;34m\u001b[0m\u001b[0m\n\u001b[0;32m---> 85\u001b[0;31m         \u001b[0mpygame\u001b[0m\u001b[0;34m.\u001b[0m\u001b[0mdisplay\u001b[0m\u001b[0;34m.\u001b[0m\u001b[0mflip\u001b[0m\u001b[0;34m(\u001b[0m\u001b[0;34m)\u001b[0m\u001b[0;34m\u001b[0m\u001b[0;34m\u001b[0m\u001b[0m\n\u001b[0m\u001b[1;32m     86\u001b[0m         \u001b[0mclock\u001b[0m\u001b[0;34m.\u001b[0m\u001b[0mtick\u001b[0m\u001b[0;34m(\u001b[0m\u001b[0;36m60\u001b[0m\u001b[0;34m)\u001b[0m \u001b[0;31m# 60 FPS\u001b[0m\u001b[0;34m\u001b[0m\u001b[0;34m\u001b[0m\u001b[0m\n\u001b[1;32m     87\u001b[0m \u001b[0;34m\u001b[0m\u001b[0m\n",
            "\u001b[0;31mKeyboardInterrupt\u001b[0m: "
          ]
        }
      ]
    }
  ]
}